{
 "cells": [
  {
   "cell_type": "code",
   "execution_count": null,
   "id": "1f73b51c-057d-4969-8c3d-6cbe009bd93f",
   "metadata": {},
   "outputs": [],
   "source": [
    "import plopp as pp\n",
    "import scipp as sc\n",
    "import numpy as np\n",
    "from plopp.data.mesh import teapot"
   ]
  },
  {
   "cell_type": "code",
   "execution_count": null,
   "id": "17405423-0496-40d5-973c-c7ec6aa42746",
   "metadata": {},
   "outputs": [],
   "source": [
    "def make_one_teapot_mesh3d(**kwargs):\n",
    "    mesh, faces, names = teapot()\n",
    "    return pp.mesh3d(mesh, faces, **names, **kwargs)"
   ]
  },
  {
   "cell_type": "code",
   "execution_count": null,
   "id": "88f7088a-593d-49e1-a088-3e58bbce96b1",
   "metadata": {},
   "outputs": [],
   "source": [
    "def make_many_teapots_mesh3d(number: int = 100, seed: int = 1, **kwargs):\n",
    "    x = sc.vector(value=[1, 0, 0], unit='m')\n",
    "    theta = sc.arange(start=0., stop=360., step=360/number, dim='teapot', unit='degree')\n",
    "    ry = sc.spatial.rotations_from_rotvecs(sc.vector(value=[0, 1, 0]) * theta)\n",
    "    tz = 300 * sc.vector(value=[0, 1, 0], unit='m') * sc.sin(theta) ** 2\n",
    "    p0 = tz + ry * ((50 * sc.cos(theta)**2 + 20) * x)\n",
    "    t_f_n = [teapot(intensity=i, transform=p0['teapot', i]) for i in range(p0.sizes['teapot'])]\n",
    "    ts, fs, ns = list(zip(*t_f_n))\n",
    "    names = ns[0]\n",
    "    data = sc.concat(tuple(x.data for x in ts), dim=names['point'])\n",
    "    intensity = sc.concat(tuple(x.coords[names['intensity']] for x in ts), dim=names['point'])\n",
    "    mesh = sc.DataArray(data=data, coords={names['intensity']: intensity})\n",
    "    return pp.mesh3d(mesh, fs[0], **names, **kwargs)"
   ]
  },
  {
   "cell_type": "code",
   "execution_count": null,
   "id": "76bf59732e23506a",
   "metadata": {
    "collapsed": false,
    "jupyter": {
     "outputs_hidden": false
    }
   },
   "outputs": [],
   "source": [
    "make_one_teapot_mesh3d()"
   ]
  },
  {
   "cell_type": "code",
   "execution_count": null,
   "id": "61e30837-bdf3-4574-b1b1-5590a409e04e",
   "metadata": {},
   "outputs": [],
   "source": [
    "make_many_teapots_mesh3d()"
   ]
  },
  {
   "cell_type": "code",
   "execution_count": null,
   "id": "8a8fca67-1a55-464e-a802-60a640733033",
   "metadata": {},
   "outputs": [],
   "source": []
  }
 ],
 "metadata": {
  "kernelspec": {
   "display_name": "Python 3 (ipykernel)",
   "language": "python",
   "name": "python3"
  },
  "language_info": {
   "codemirror_mode": {
    "name": "ipython",
    "version": 3
   },
   "file_extension": ".py",
   "mimetype": "text/x-python",
   "name": "python",
   "nbconvert_exporter": "python",
   "pygments_lexer": "ipython3",
   "version": "3.11.7"
  }
 },
 "nbformat": 4,
 "nbformat_minor": 5
}
