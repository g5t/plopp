{
 "cells": [
  {
   "cell_type": "code",
   "execution_count": 1,
   "id": "1f73b51c-057d-4969-8c3d-6cbe009bd93f",
   "metadata": {},
   "outputs": [],
   "source": [
    "import plopp as pp\n",
    "from tests.plotting.mesh3d_test import (\n",
    "    make_one_teapot_mesh3d, make_two_teapots_mesh3d, make_many_teapots_mesh3d\n",
    ")"
   ]
  },
  {
   "cell_type": "code",
   "execution_count": 2,
   "id": "17405423-0496-40d5-973c-c7ec6aa42746",
   "metadata": {},
   "outputs": [
    {
     "data": {
      "application/vnd.jupyter.widget-view+json": {
       "model_id": "3ce15d5e6c4d4e9798ca17ae5b0159cb",
       "version_major": 2,
       "version_minor": 0
      },
      "text/plain": [
       "Box(children=(Figure(children=(HBar(children=(HTML(value=''),)), HBox(children=(VBar(children=(Toolbar(childre…"
      ]
     },
     "execution_count": 2,
     "metadata": {},
     "output_type": "execute_result"
    }
   ],
   "source": [
    "make_one_teapot_mesh3d()"
   ]
  },
  {
   "cell_type": "code",
   "execution_count": 3,
   "id": "88f7088a-593d-49e1-a088-3e58bbce96b1",
   "metadata": {},
   "outputs": [
    {
     "data": {
      "application/vnd.jupyter.widget-view+json": {
       "model_id": "69bd7d578e95426d8e01774d9134ca03",
       "version_major": 2,
       "version_minor": 0
      },
      "text/plain": [
       "Box(children=(Figure(children=(HBar(children=(HTML(value=''),)), HBox(children=(VBar(children=(Toolbar(childre…"
      ]
     },
     "execution_count": 3,
     "metadata": {},
     "output_type": "execute_result"
    }
   ],
   "source": [
    "make_two_teapots_mesh3d()"
   ]
  },
  {
   "cell_type": "code",
   "execution_count": 4,
   "id": "61e30837-bdf3-4574-b1b1-5590a409e04e",
   "metadata": {},
   "outputs": [
    {
     "data": {
      "application/vnd.jupyter.widget-view+json": {
       "model_id": "06a92b4b8e6c458c973e961af1536459",
       "version_major": 2,
       "version_minor": 0
      },
      "text/plain": [
       "Box(children=(Figure(children=(HBar(children=(HTML(value=''),)), HBox(children=(VBar(children=(Toolbar(childre…"
      ]
     },
     "execution_count": 4,
     "metadata": {},
     "output_type": "execute_result"
    }
   ],
   "source": [
    "make_many_teapots_mesh3d()"
   ]
  }
 ],
 "metadata": {
  "kernelspec": {
   "display_name": "Python 3 (ipykernel)",
   "language": "python",
   "name": "python3"
  },
  "language_info": {
   "codemirror_mode": {
    "name": "ipython",
    "version": 3
   },
   "file_extension": ".py",
   "mimetype": "text/x-python",
   "name": "python",
   "nbconvert_exporter": "python",
   "pygments_lexer": "ipython3",
   "version": "3.11.7"
  }
 },
 "nbformat": 4,
 "nbformat_minor": 5
}
